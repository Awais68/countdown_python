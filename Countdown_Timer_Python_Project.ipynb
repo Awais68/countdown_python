{
  "nbformat": 4,
  "nbformat_minor": 0,
  "metadata": {
    "colab": {
      "provenance": [],
      "authorship_tag": "ABX9TyN7SjA/B2Rhkm8a7eQA10+e",
      "include_colab_link": true
    },
    "kernelspec": {
      "name": "python3",
      "display_name": "Python 3"
    },
    "language_info": {
      "name": "python"
    }
  },
  "cells": [
    {
      "cell_type": "markdown",
      "metadata": {
        "id": "view-in-github",
        "colab_type": "text"
      },
      "source": [
        "<a href=\"https://colab.research.google.com/github/Awais68/countdown_python/blob/main/Countdown_Timer_Python_Project.ipynb\" target=\"_parent\"><img src=\"https://colab.research.google.com/assets/colab-badge.svg\" alt=\"Open In Colab\"/></a>"
      ]
    },
    {
      "cell_type": "markdown",
      "source": [
        "**Countdown Timer Python Project**"
      ],
      "metadata": {
        "id": "KGXreyVasora"
      }
    },
    {
      "cell_type": "code",
      "execution_count": 5,
      "metadata": {
        "colab": {
          "base_uri": "https://localhost:8080/"
        },
        "id": "Ws7GneA4sgDl",
        "outputId": "21624f54-305c-42ac-cdc1-7ba447b79ac5"
      },
      "outputs": [
        {
          "output_type": "stream",
          "name": "stdout",
          "text": [
            "Well Come!!! Count Down Timer\n",
            "Enter the time in seconds:   10\n",
            "00:10\n",
            "00:09\n",
            "00:08\n",
            "00:07\n",
            "00:06\n",
            "00:05\n",
            "00:04\n",
            "00:03\n",
            "00:02\n",
            "00:01\n",
            "\n",
            "\t\t\t\t Timer Completed!\n"
          ]
        }
      ],
      "source": [
        "import time\n",
        "print(\"Well Come!!! Count Down Timer\")\n",
        "\n",
        "def countdown(t):\n",
        "  while t:\n",
        "    mins, secs = divmod(t, 60)\n",
        "    timer = '{:02d}:{:02d}'.format(mins, secs)\n",
        "\n",
        "    print(timer, end=\"\\r\")\n",
        "    print(timer, flush=True)\n",
        "    time.sleep(1)\n",
        "    t -= 1\n",
        "  print('\\n\\t\\t\\t\\t Timer Completed!')\n",
        "t = input(\"Enter the time in seconds:   \")\n",
        "countdown(int(t))\n",
        "\n",
        "\n"
      ]
    }
  ]
}